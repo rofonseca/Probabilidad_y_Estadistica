{
  "nbformat": 4,
  "nbformat_minor": 0,
  "metadata": {
    "colab": {
      "provenance": []
    },
    "kernelspec": {
      "name": "python3",
      "display_name": "Python 3"
    },
    "language_info": {
      "name": "python"
    }
  },
  "cells": [
    {
      "cell_type": "code",
      "execution_count": 1,
      "metadata": {
        "id": "_iI77Ji1aavf"
      },
      "outputs": [],
      "source": [
        "import scipy.stats as stats\n",
        "import numpy as np"
      ]
    },
    {
      "cell_type": "markdown",
      "source": [
        "Algunos links para leer documentación:\n",
        "* https://docs.scipy.org/doc/scipy/reference/generated/scipy.stats.ttest_1samp.html\n",
        "* https://docs.scipy.org/doc/scipy/reference/generated/scipy.stats.t.html"
      ],
      "metadata": {
        "id": "2LFIdTqjk5mz"
      }
    },
    {
      "cell_type": "markdown",
      "source": [
        "# Ejercicio 16\n",
        "\n",
        "Según el Código Alimentario Argentino (CAA) un alimento es considerado bajo en sodio si el mismo posee a lo sumo 120 mg de sodio por cada 100 g de producto. Se tomaron 16 muestras aleatoriamente elegidas de galletas rotuladas como bajas en sodio de cierta marca, con el fin de determinar el cumplimiento de las normas alimentarias del CAA. Los contenidos de sodio (mg) por cada 100 g de muestra de galletas\n",
        "fueron:\n",
        "\n",
        "$$ 125.02 \\hspace{0.5 cm} 121.45  \\hspace{0.5 cm} 122.25 \\hspace{0.5 cm} 119.37 \\hspace{0.5 cm} 120.80 \\hspace{0.5 cm} 124.78 \\hspace{0.5 cm} 121.35 \\hspace{0.5 cm} 124.97$$\n",
        "$$ 119.98 \\hspace{0.5 cm} 117.50 \\hspace{0.5 cm} 121.13 \\hspace{0.5 cm} 123.09 \\hspace{0.5 cm} 124.40 \\hspace{0.5 cm} 126.97 \\hspace{0.5 cm} 118.89 \\hspace{0.5 cm} 121.72$$\n",
        "Suponga que el contenido de sodio tiene distribución normal. ¿Esta información sugiere que esta marca de galletas no está cumpliendo las normas alimentarias del CAA? Plantear las hipótesis de interés y concluir usando un nivel de significancia de 0,05"
      ],
      "metadata": {
        "id": "r2Kn2p26amKL"
      }
    },
    {
      "cell_type": "code",
      "source": [
        "data_galletas = [125.02,121.45,122.25,119.37,120.80,124.78,121.35,124.97,119.98,117.50,121.13,123.09,124.40,126.97,118.89,121.72]"
      ],
      "metadata": {
        "id": "NvPJx8VFbDBV"
      },
      "execution_count": 2,
      "outputs": []
    },
    {
      "cell_type": "code",
      "source": [
        "# Hipótesis nula: La media de la población es menor o igual a 120.\n",
        "# Hipótesis alternativa: La media de la población es mayor a 120.\n",
        "\n",
        "alpha = 0.05\n",
        "\n",
        "# Realizar la prueba t de Student\n",
        "t_statistic, p_value = stats.ttest_1samp(data_galletas, 120, alternative='greater')\n",
        "\n",
        "# Comparar el valor p con el nivel de significancia\n",
        "if p_value < alpha:\n",
        "    print(\"Rechazamos la hipótesis nula\")\n",
        "else:\n",
        "    print(\"No podemos rechazar la hipótesis nula\")\n",
        "\n",
        "# Imprimir valores importantes\n",
        "print(\"t: \",t_statistic)\n",
        "print(\"grados de libertad: \", len(data_galletas)-1)\n",
        "print(\"p-valor: \", p_value)"
      ],
      "metadata": {
        "colab": {
          "base_uri": "https://localhost:8080/"
        },
        "id": "GAaYAjBlbdDO",
        "outputId": "339f196e-d1ab-4973-bb92-c2e05f82f534"
      },
      "execution_count": 8,
      "outputs": [
        {
          "output_type": "stream",
          "name": "stdout",
          "text": [
            "Rechazamos la hipótesis nula\n",
            "t:  3.241873504700259\n",
            "grados de libertad:  15\n",
            "p-valor:  0.002736847041442645\n"
          ]
        }
      ]
    },
    {
      "cell_type": "markdown",
      "source": [
        "### Otra forma"
      ],
      "metadata": {
        "id": "S-s8ai6nfbVg"
      }
    },
    {
      "cell_type": "code",
      "source": [
        "# Se crea un arreglo de numpy que contiene los valores de sodio que se desean analizar.\n",
        "sodio = np.array([125.02, 121.45, 122.25, 119.37, 120.80, 124.78, 121.35, 124.97, 119.98, 117.50, 121.13, 123.09, 124.40, 126.97, 118.89, 121.72])\n",
        "# calcula la prueba t de una muestra en el arreglo \"sodio\" con una hipótesis nula de que la media es igual a 120. La opción alternative='greater'\n",
        "# indica que estamos interesados en probar si la verdadera media es mayor que 120.\n",
        "t_stat, p_value = stats.ttest_1samp(sodio, 120, alternative='greater')\n",
        "\n",
        "# Imprime el encabezado \"One Sample t-test\" para indicar el tipo de prueba que se realizó.\n",
        "print(\"One Sample t-test\")\n",
        "# Imprime el valor de t, que es una medida de cuántas desviaciones estándar está la media de la muestra con respecto a la hipótesis nula.\n",
        "# Imprime los grados de libertad (df), que son el número de observaciones menos 1.\n",
        "# Imprime el valor p, que es la probabilidad de obtener el resultado observado si la hipótesis nula es cierta. En este caso, estamos\n",
        "# interesados en el valor p para la hipótesis alternativa \"mayor que\".\n",
        "print(f\"t = {t_stat:.4f}, df = {len(sodio) - 1}, p-value = {p_value:.6f}\")\n",
        "# Imprime la hipótesis alternativa que indica que la verdadera media es mayor que 120.\n",
        "print(\"alternative hypothesis: true mean is greater than 120\")\n",
        "# Imprime el intervalo de confianza del 95%, que muestra el valor promedio de \"sodio\" y \"Inf\" para indicar que no se ha calculado un límite superior.\n",
        "print(f\"95 percent confidence interval: {np.mean(sodio):.4f} Inf\")\n",
        "# Imprime la estimación de la media de la muestra.\n",
        "print(\"sample estimates:\")\n",
        "print(f\"mean of x {np.mean(sodio):.4f}\")"
      ],
      "metadata": {
        "colab": {
          "base_uri": "https://localhost:8080/"
        },
        "id": "e3f5G_eMcG-G",
        "outputId": "2589e505-a9df-4606-f8b8-0f305652347e"
      },
      "execution_count": 4,
      "outputs": [
        {
          "output_type": "stream",
          "name": "stdout",
          "text": [
            "One Sample t-test\n",
            "t = 3.2419, df = 15, p-value = 0.002737\n",
            "alternative hypothesis: true mean is greater than 120\n",
            "95 percent confidence interval: 122.1044 Inf\n",
            "sample estimates:\n",
            "mean of x 122.1044\n"
          ]
        }
      ]
    },
    {
      "cell_type": "markdown",
      "source": [
        "# Ejercicio 17\n",
        "\n",
        "Para chequear las lecturas de detectores de radón de cierto tipo, se seleccionó una muestra de 12 detectores y cada uno se expuso a 100 pCi/L de radón. Las lecturas obtenidas fueron las siguientes:\n",
        "$$105.6 \\hspace{0.5 cm} 90.0\\hspace{0.5 cm}91.2\\hspace{0.5 cm}96.9\\hspace{0.5 cm}96.5\\hspace{0.5 cm}91.3$$\n",
        "$$100.1\\hspace{0.5 cm}105.0\\hspace{0.5 cm}99.6\\hspace{0.5 cm}107.7\\hspace{0.5 cm}103.3\\hspace{0.5 cm}92.4$$\n",
        "\n",
        "(A)  ¿Estos datos indican que la lectura de radón media difiere del valor al que fueron expuestos los detectores? Plantee las hipótesis de interés, indique cuál es el valor observado del estadístico de prueba y concluya utilizando un nivel de significancia de 0,02.\n",
        "\n",
        "(B) Obtenga un intervalo de 98\\% de confianza para la lectura media de radón de los detectores de este tipo y concluya respecto a las hipótesis de interés. Compare con lo obtenido en (A).\n",
        "\n",
        "(C) ¿Qué supuestos se necesitan para que las conclusiones obtenidas en (A) y (B) sean válidas?"
      ],
      "metadata": {
        "id": "EJUKD6Zyfenu"
      }
    },
    {
      "cell_type": "code",
      "source": [
        "# Lecturas de los detectores\n",
        "lecturas = [105.6, 90, 91.2, 96.9, 91.3, 100.1, 105, 99.6, 107.7, 103.3, 92.4]"
      ],
      "metadata": {
        "id": "2dx-apaofzfF"
      },
      "execution_count": 10,
      "outputs": []
    },
    {
      "cell_type": "code",
      "source": [
        "# Valor al que fueron expuestos los detectores\n",
        "valor_expuesto = 100\n",
        "\n",
        "# Hipótesis nula: La media de la población es igual a 100, el valor_expuesto.\n",
        "# Hipótesis alternativa: La media de la población no es igual a 100.\n",
        "\n",
        "# Realizamos el t-test de dos colas\n",
        "t_stat, p_value = stats.ttest_1samp(lecturas, valor_expuesto)\n",
        "\n",
        "# Nivel de significancia\n",
        "nivel_significancia = 0.02\n",
        "\n",
        "# Comparar el valor observado del estadístico de prueba con el valor crítico\n",
        "if p_value < nivel_significancia:\n",
        "    print(\"Rechazamos la hipótesis nula.\")\n",
        "else:\n",
        "    print(\"No podemos rechazar la hipótesis nula.\")"
      ],
      "metadata": {
        "colab": {
          "base_uri": "https://localhost:8080/"
        },
        "id": "oR36-JuUkG5u",
        "outputId": "ed6cbb4c-6cf0-4c16-a83a-278caf377aa9"
      },
      "execution_count": 11,
      "outputs": [
        {
          "output_type": "stream",
          "name": "stdout",
          "text": [
            "No podemos rechazar la hipótesis nula.\n"
          ]
        }
      ]
    },
    {
      "cell_type": "code",
      "source": [
        "# Calculamos el intervalo de confianza del 98%\n",
        "confianza = 0.98\n",
        "intervalo = stats.t.interval(confianza, len(lecturas) - 1, loc=np.mean(lecturas), scale=stats.sem(lecturas))\n",
        "\n",
        "print(\"Intervalo de confianza del 98%:\", intervalo)"
      ],
      "metadata": {
        "colab": {
          "base_uri": "https://localhost:8080/"
        },
        "id": "SQ2Ssba2kbBx",
        "outputId": "66f12be9-6f33-4cee-ad8d-bd2c7b589d01"
      },
      "execution_count": 12,
      "outputs": [
        {
          "output_type": "stream",
          "name": "stdout",
          "text": [
            "Intervalo de confianza del 98%: (93.05518306031212, 103.87208966696065)\n"
          ]
        }
      ]
    },
    {
      "cell_type": "code",
      "source": [],
      "metadata": {
        "id": "n8db_4GfkgA2"
      },
      "execution_count": null,
      "outputs": []
    },
    {
      "cell_type": "code",
      "source": [],
      "metadata": {
        "id": "TFd1l5WVdtDG"
      },
      "execution_count": null,
      "outputs": []
    },
    {
      "cell_type": "code",
      "source": [],
      "metadata": {
        "id": "eiTW7JKddiA4"
      },
      "execution_count": null,
      "outputs": []
    }
  ]
}