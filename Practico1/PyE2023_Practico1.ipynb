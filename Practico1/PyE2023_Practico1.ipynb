{
 "cells": [
  {
   "cell_type": "code",
   "execution_count": 1,
   "id": "4e4856c2",
   "metadata": {},
   "outputs": [],
   "source": [
    "import numpy as np\n",
    "import pandas as pd\n",
    "import matplotlib.pyplot as plt\n",
    "import seaborn as sns\n",
    "from scipy import stats"
   ]
  },
  {
   "cell_type": "markdown",
   "id": "7e73b9b9",
   "metadata": {},
   "source": [
    "# Ejercicio 2"
   ]
  },
  {
   "cell_type": "code",
   "execution_count": 2,
   "id": "15305cbe",
   "metadata": {},
   "outputs": [],
   "source": [
    "datos = ['o', 'o', 'n', 'j', 't', 'f', 'b', 'b', 'f', 'o', 'j', 'o', 'o', 'm',\n",
    "         'o', 'f', 'f', 'o', 'o', 'n', 'o', 'n', 'j', 'f', 'j', 'b', 'o', 't',\n",
    "         'j', 'o', 'j', 'j', 'f', 'n', 'o', 'b', 'm', 'o', 'j', 'm', 'o', 'b',\n",
    "         'o', 'f', 'j', 'o', 'o', 'b', 'n', 't', 'o', 'o', 'o', 'm', 'b', 'f']"
   ]
  },
  {
   "cell_type": "code",
   "execution_count": 3,
   "id": "7acfd5d1",
   "metadata": {},
   "outputs": [],
   "source": [
    "def  frec_abs (x):\n",
    "    ''' devuelve la frecuencia absoluta de una lista'''\n",
    "    freqs = [(value, x.count (value) ) for value in set (x)]\n",
    "    return freqs"
   ]
  },
  {
   "cell_type": "code",
   "execution_count": 4,
   "id": "664e6822",
   "metadata": {},
   "outputs": [
    {
     "data": {
      "text/plain": [
       "[('n', 5), ('m', 4), ('b', 7), ('j', 9), ('t', 3), ('f', 8), ('o', 20)]"
      ]
     },
     "execution_count": 4,
     "metadata": {},
     "output_type": "execute_result"
    }
   ],
   "source": [
    "frec_abs(datos)"
   ]
  },
  {
   "cell_type": "code",
   "execution_count": 5,
   "id": "194d0853",
   "metadata": {},
   "outputs": [],
   "source": [
    "def  frec_rel (x):\n",
    "    ''' devuelve la frecuencia absoluta de una lista'''\n",
    "    freqs = [(value, x.count (value) / len (x)) for value in set (x)]\n",
    "    return freqs"
   ]
  },
  {
   "cell_type": "code",
   "execution_count": 6,
   "id": "5542f9ae",
   "metadata": {},
   "outputs": [
    {
     "data": {
      "text/plain": [
       "[('n', 0.08928571428571429),\n",
       " ('m', 0.07142857142857142),\n",
       " ('b', 0.125),\n",
       " ('j', 0.16071428571428573),\n",
       " ('t', 0.05357142857142857),\n",
       " ('f', 0.14285714285714285),\n",
       " ('o', 0.35714285714285715)]"
      ]
     },
     "execution_count": 6,
     "metadata": {},
     "output_type": "execute_result"
    }
   ],
   "source": [
    "frec_rel(datos)"
   ]
  },
  {
   "cell_type": "code",
   "execution_count": 7,
   "id": "ae9cfa3e",
   "metadata": {},
   "outputs": [
    {
     "data": {
      "image/png": "[encoded data removed]",
      "text/plain": [
       "<Figure size 432x288 with 1 Axes>"
      ]
     },
     "metadata": {
      "needs_background": "light"
     },
     "output_type": "display_data"
    }
   ],
   "source": [
    "# Graficamos el histograma de los datos usando matplotlib\n",
    "plt.hist(datos)\n",
    "plt.show()"
   ]
  },
  {
   "cell_type": "code",
   "execution_count": 8,
   "id": "28f3aa24",
   "metadata": {},
   "outputs": [
    {
     "data": {
      "image/png": "[encoded data removed]",
      "text/plain": [
       "<Figure size 432x288 with 1 Axes>"
      ]
     },
     "metadata": {
      "needs_background": "light"
     },
     "output_type": "display_data"
    }
   ],
   "source": [
    "# Graficamos el histograma de los datos usando seaborn\n",
    "sns.histplot(datos)\n",
    "plt.show()"
   ]
  },
  {
   "cell_type": "code",
   "execution_count": 9,
   "id": "69839bb1",
   "metadata": {},
   "outputs": [
    {
     "data": {
      "image/png": "[encoded data removed]",
      "text/plain": [
       "<Figure size 432x288 with 1 Axes>"
      ]
     },
     "metadata": {
      "needs_background": "light"
     },
     "output_type": "display_data"
    }
   ],
   "source": [
    "# Graficamos el histograma de los datos usando seaborn\n",
    "# además definimos que las barras sean de color rojo\n",
    "sns.histplot(datos,  color= 'r')\n",
    "plt.show()"
   ]
  },
  {
   "cell_type": "markdown",
   "id": "a1523217",
   "metadata": {},
   "source": [
    "# Ejercicio 3"
   ]
  },
  {
   "cell_type": "code",
   "execution_count": 10,
   "id": "efb34cab",
   "metadata": {},
   "outputs": [],
   "source": [
    "i = [0, 20, 40, 50, 60, 80, 100]\n",
    "ii = [0, 48, 49, 50, 51, 52, 100]\n",
    "iii = [0, 1, 2, 50, 98, 99, 100]"
   ]
  },
  {
   "cell_type": "code",
   "execution_count": 11,
   "id": "3b01483d",
   "metadata": {},
   "outputs": [],
   "source": [
    "def promedio (lista):\n",
    "  ''' Devuelve el promedio de una lista de números\n",
    "      los elementos de la lista deben ser int'''\n",
    "  n = len(lista)\n",
    "  s = 0\n",
    "  for i in range(n):\n",
    "    s += lista[i]\n",
    "  return s/n"
   ]
  },
  {
   "cell_type": "code",
   "execution_count": 12,
   "id": "f5ce359e",
   "metadata": {},
   "outputs": [
    {
     "name": "stdout",
     "output_type": "stream",
     "text": [
      "Promedio de (i):  50.0\n",
      "Promedio de (ii):  50.0\n",
      "Promedio de (iii):  50.0\n"
     ]
    }
   ],
   "source": [
    "print('Promedio de (i): ', promedio(i))\n",
    "print('Promedio de (ii): ', promedio(ii))\n",
    "print('Promedio de (iii): ', promedio(iii))"
   ]
  },
  {
   "cell_type": "code",
   "execution_count": 13,
   "id": "98244d8c",
   "metadata": {},
   "outputs": [],
   "source": [
    "def desv_estandar_muestral(lista):\n",
    "  ''' Devuelve el desvio estandar de una lista de números\n",
    "      los elementos de la lista deben ser int'''\n",
    "  n = len(lista)\n",
    "  prom = promedio(lista)\n",
    "  s = 0\n",
    "  for i in range(n):\n",
    "    s += (lista[i]-prom)**2\n",
    "  return(s/n)**0.5"
   ]
  },
  {
   "cell_type": "code",
   "execution_count": 14,
   "id": "d9d323fb",
   "metadata": {},
   "outputs": [
    {
     "name": "stdout",
     "output_type": "stream",
     "text": [
      "Desvio estandar de (i):  31.622776601683793\n",
      "Desvio estandar de (ii):  26.752836965717965\n",
      "Desvio estandar de (iii):  45.37148254764691\n"
     ]
    }
   ],
   "source": [
    "print('Desvio estandar de (i): ', desv_estandar_muestral(i))\n",
    "print('Desvio estandar de (ii): ', desv_estandar_muestral(ii))\n",
    "print('Desvio estandar de (iii): ', desv_estandar_muestral(iii))"
   ]
  },
  {
   "cell_type": "markdown",
   "id": "ca2f9408",
   "metadata": {},
   "source": [
    "De observar el desvio estandar muestral de las tres muestras podemos ver que la muestra (iii) es la que tiene mayor dispersión respecto de la media y que la muestra (ii) es la que tiene una menor dispersión respecto de la media."
   ]
  },
  {
   "cell_type": "markdown",
   "id": "fc00a99a",
   "metadata": {},
   "source": [
    "# Ejercicio4"
   ]
  },
  {
   "cell_type": "code",
   "execution_count": 15,
   "id": "99747eec",
   "metadata": {},
   "outputs": [],
   "source": [
    "def promedio_examen(n_alumnos):\n",
    "  aux = (0.3*n_alumnos*3+0.5*n_alumnos*2+0.1*n_alumnos*1+0.1*n_alumnos*0)/n_alumnos\n",
    "  # 0.1*n_alumnos*0 no es necesario porque suma ceros\n",
    "  return aux"
   ]
  },
  {
   "cell_type": "code",
   "execution_count": 16,
   "id": "2cde3f3f",
   "metadata": {},
   "outputs": [
    {
     "name": "stdout",
     "output_type": "stream",
     "text": [
      "Teniendo 10 alumnos:  2.0\n",
      "Teniendo 20 alumnos:  2.0\n"
     ]
    }
   ],
   "source": [
    "print('Teniendo 10 alumnos: ', promedio_examen(10))\n",
    "print('Teniendo 20 alumnos: ', promedio_examen(20))"
   ]
  },
  {
   "cell_type": "markdown",
   "id": "34cf42d9",
   "metadata": {},
   "source": [
    "# Ejercicio 5"
   ]
  },
  {
   "cell_type": "code",
   "execution_count": 17,
   "id": "0bb59a02",
   "metadata": {},
   "outputs": [],
   "source": [
    "A = [1]+[50]*97+[99]\n",
    "\n",
    "B = [1]*49+[50]+[99]*49\n",
    "\n",
    "C = []\n",
    "for i in range(99):\n",
    "  C.append(i+1)"
   ]
  },
  {
   "cell_type": "code",
   "execution_count": 18,
   "id": "527721f4",
   "metadata": {},
   "outputs": [
    {
     "name": "stdout",
     "output_type": "stream",
     "text": [
      "Promedio de la clase A:  50.0\n",
      "Promedio de la clase B:  50.0\n",
      "Promedio de la clase C:  50.0\n"
     ]
    }
   ],
   "source": [
    "print('Promedio de la clase A: ', promedio(A))\n",
    "print('Promedio de la clase B: ', promedio(B))\n",
    "print('Promedio de la clase C: ', promedio(C))"
   ]
  },
  {
   "cell_type": "code",
   "execution_count": 19,
   "id": "176404d3",
   "metadata": {},
   "outputs": [
    {
     "name": "stdout",
     "output_type": "stream",
     "text": [
      "Desvio estandar de la clase A:  6.964556734283274\n",
      "Desvio estandar de la clase B:  48.75189713998292\n",
      "Desvio estandar de la clase C:  28.577380332470412\n"
     ]
    }
   ],
   "source": [
    "print('Desvio estandar de la clase A: ', desv_estandar_muestral(A))\n",
    "print('Desvio estandar de la clase B: ', desv_estandar_muestral(B))\n",
    "print('Desvio estandar de la clase C: ', desv_estandar_muestral(C))"
   ]
  },
  {
   "cell_type": "markdown",
   "id": "507f1e6f",
   "metadata": {},
   "source": [
    "# Ejercicio 6"
   ]
  },
  {
   "cell_type": "code",
   "execution_count": 20,
   "id": "9d9bc51b",
   "metadata": {},
   "outputs": [],
   "source": [
    "datos_6 = [160, 174, 176, 177, 179, 180, 180, 181, 183, 187,\n",
    "           191, 194, 200, 202, 204, 205, 207, 211, 211, 254]"
   ]
  },
  {
   "cell_type": "code",
   "execution_count": 21,
   "id": "9f05bc32",
   "metadata": {},
   "outputs": [],
   "source": [
    "def mediana_muestral(lista):\n",
    "  ''' Devuelve la mediana muestral de los elementos de una lista de números\n",
    "      los elementos de la lista deben ser int'''\n",
    "\n",
    "  n = len(lista)\n",
    "  if n%2 == 1:\n",
    "    # n es impar\n",
    "    a = int((n)/2)\n",
    "    return lista[a]\n",
    "  else:\n",
    "    # n es par\n",
    "    b = int(n/2 -1) # necesito que sean int para pasarselo a la lista\n",
    "    c = int(n/2 )\n",
    "    aux1 = lista[b]\n",
    "    aux2 = lista[c]\n",
    "    return (aux1 + aux2)/2"
   ]
  },
  {
   "cell_type": "code",
   "execution_count": 22,
   "id": "ad417efa",
   "metadata": {},
   "outputs": [
    {
     "name": "stdout",
     "output_type": "stream",
     "text": [
      "media:  192.8\n",
      "mediana muestral:  189.0\n"
     ]
    }
   ],
   "source": [
    "print('media: ', promedio(datos_6))\n",
    "print('mediana muestral: ', mediana_muestral(datos_6))"
   ]
  },
  {
   "cell_type": "markdown",
   "id": "9070029c",
   "metadata": {},
   "source": [
    "## b)"
   ]
  },
  {
   "cell_type": "code",
   "execution_count": 23,
   "id": "bee3bbe5",
   "metadata": {},
   "outputs": [],
   "source": [
    "datos_6b = [160, 174, 176, 177, 179, 180, 180, 181, 183, 187,\n",
    "           191, 194, 200, 202, 204, 205, 207, 211, 211, 211]"
   ]
  },
  {
   "cell_type": "code",
   "execution_count": 24,
   "id": "81abde80",
   "metadata": {},
   "outputs": [
    {
     "name": "stdout",
     "output_type": "stream",
     "text": [
      "media:  190.65\n",
      "mediana muestral:  189.0\n"
     ]
    }
   ],
   "source": [
    "print('media: ', promedio(datos_6b))\n",
    "print('mediana muestral: ', mediana_muestral(datos_6b))"
   ]
  },
  {
   "cell_type": "markdown",
   "id": "2b554cf5",
   "metadata": {},
   "source": [
    "## c)"
   ]
  },
  {
   "cell_type": "code",
   "execution_count": 25,
   "id": "4df281be",
   "metadata": {},
   "outputs": [],
   "source": [
    "datos_6c = [ 174, 176, 177, 179, 180, 180, 181, 183, 187,\n",
    "           191, 194, 200, 202, 204, 205, 207, 211, 211]"
   ]
  },
  {
   "cell_type": "code",
   "execution_count": 26,
   "id": "dd3aaa80",
   "metadata": {},
   "outputs": [
    {
     "name": "stdout",
     "output_type": "stream",
     "text": [
      "media:  191.22222222222223\n",
      "mediana muestral:  189.0\n"
     ]
    }
   ],
   "source": [
    "print('media: ', promedio(datos_6c))\n",
    "print('mediana muestral: ', mediana_muestral(datos_6c))"
   ]
  },
  {
   "cell_type": "markdown",
   "id": "5870a24a",
   "metadata": {},
   "source": [
    "## d)"
   ]
  },
  {
   "cell_type": "code",
   "execution_count": 27,
   "id": "ec3e4df0",
   "metadata": {},
   "outputs": [],
   "source": [
    "datos_6d = [179, 180, 180, 181, 183, 187,\n",
    "            191, 194, 200, 202, 204, 205]"
   ]
  },
  {
   "cell_type": "code",
   "execution_count": 28,
   "id": "b1a8a95d",
   "metadata": {},
   "outputs": [
    {
     "name": "stdout",
     "output_type": "stream",
     "text": [
      "media:  190.5\n",
      "mediana muestral:  189.0\n"
     ]
    }
   ],
   "source": [
    "print('media: ', promedio(datos_6d))\n",
    "print('mediana muestral: ', mediana_muestral(datos_6d))"
   ]
  },
  {
   "cell_type": "markdown",
   "id": "c698fe5d",
   "metadata": {},
   "source": [
    "# Ejercicio 8"
   ]
  },
  {
   "cell_type": "code",
   "execution_count": 29,
   "id": "80d1bf5d",
   "metadata": {},
   "outputs": [
    {
     "name": "stdout",
     "output_type": "stream",
     "text": [
      "media:  103.12\n",
      "Desvio estandar:  2.20762315624746\n"
     ]
    }
   ],
   "source": [
    "datos_8 = [104.0, 104.8, 101.6, 108, 103.8, 100.8, 104.2, 100.2, 102.4, 101.4]\n",
    "\n",
    "print('media: ', promedio(datos_8))\n",
    "print('Desvio estandar: ', desv_estandar_muestral(datos_8))"
   ]
  },
  {
   "cell_type": "code",
   "execution_count": 30,
   "id": "5650ff8f",
   "metadata": {},
   "outputs": [
    {
     "name": "stdout",
     "output_type": "stream",
     "text": [
      "media en celcius:  39.51111111111111\n",
      "Desvio estandar en celcius:  1.2264573090263668\n"
     ]
    }
   ],
   "source": [
    "print('media en celcius: ', promedio(datos_8)*5/9 + (-32*5/9))\n",
    "print('Desvio estandar en celcius: ', desv_estandar_muestral(datos_8)*(5/9))"
   ]
  },
  {
   "cell_type": "code",
   "execution_count": 31,
   "id": "3692707f",
   "metadata": {},
   "outputs": [
    {
     "data": {
      "text/plain": [
       "189.14000000000001"
      ]
     },
     "execution_count": 31,
     "metadata": {},
     "output_type": "execute_result"
    }
   ],
   "source": [
    "(87.3+(32*5/9))/(5/9)"
   ]
  },
  {
   "cell_type": "markdown",
   "id": "3b299900",
   "metadata": {},
   "source": [
    "# Ejercicio 11"
   ]
  },
  {
   "cell_type": "code",
   "execution_count": 32,
   "id": "a9cc3da3",
   "metadata": {},
   "outputs": [],
   "source": [
    "control = [1202.6, 830.1, 372.4, 345.5, 321.2, 422.3, 136.0,\n",
    "            147.8,  95.0,  87.0,  81.2,  68.5,  47.3,  41.1,\n",
    "            36.6,  29.0,  28.6,  26.3,  26.1,  24.4,  21.7,\n",
    "            17.3, 11.5, 4.9, 4.9, 1.0]\n",
    "\n",
    "sembradas = [2745.6, 1697.8, 1656.0, 978.0, 703.4, 489.1, 430.0,\n",
    "             334.1, 302.8, 274.7, 274.7, 255.0, 242.5, 200.7,\n",
    "             198.6, 129.6, 119.0, 118.3, 115.3, 92.4, 40.6,\n",
    "             32.7, 31.4, 17.5, 7.7, 4.1]"
   ]
  },
  {
   "cell_type": "code",
   "execution_count": 33,
   "id": "ed3cbcd4",
   "metadata": {},
   "outputs": [],
   "source": [
    "def Q1(muestra):\n",
    "  ''' Devuelve el cuartil inferior de los elementos de una lista de números\n",
    "      los elementos de la lista deben ser int'''\n",
    "  n = len(muestra)\n",
    "  if n%2 == 1:\n",
    "    # n es impar\n",
    "    return mediana_muestral(muestra[0:int(n/2+1)])\n",
    "  else:\n",
    "    return mediana_muestral(muestra[0:int(n/2)])\n",
    "\n",
    "def Q3(muestra):\n",
    "  ''' Devuelve el cuartil superior de los elementos de una lista de números\n",
    "      los elementos de la lista deben ser int'''\n",
    "  n = len(muestra)\n",
    "  if n%2 == 1:\n",
    "    # n es impar\n",
    "    return mediana_muestral(muestra[int(n/2+1):(n+1)])\n",
    "  else:\n",
    "    return mediana_muestral(muestra[int(n/2):(n+1)])"
   ]
  },
  {
   "cell_type": "code",
   "execution_count": 34,
   "id": "bec6a142",
   "metadata": {},
   "outputs": [
    {
     "name": "stdout",
     "output_type": "stream",
     "text": [
      "máximo en nubes control:  1202.6\n",
      "máximo en nubes sembradas:  2745.6\n",
      "----------------\n",
      "mínimo en nubes control:  1.0\n",
      "mínimo en nubes sembradas:  4.1\n",
      "----------------\n",
      "rango en nubes control:  1201.6\n",
      "rango en nubes sembradas:  2741.5\n",
      "----------------\n",
      "media en nubes control:  170.39615384615388\n",
      "media en nubes sembradas:  441.9846153846155\n",
      "----------------\n",
      "mediana en nubes control:  44.2\n",
      "mediana en nubes sembradas:  221.6\n",
      "----------------\n",
      "Desvio estandar en nubes control:  277.21351737600446\n",
      "Desvio estandar en nubes sembradas:  638.1493240326387\n",
      "----------------\n",
      "Q1 en nubes control:  24.4\n",
      "Q1 en nubes sembradas:  92.4\n",
      "----------------\n",
      "Q3 en nubes control:  147.8\n",
      "Q3 en nubes sembradas:  430.0\n"
     ]
    }
   ],
   "source": [
    "print('máximo en nubes control: ', max(control))\n",
    "print('máximo en nubes sembradas: ', max(sembradas))\n",
    "print('----------------')\n",
    "\n",
    "print('mínimo en nubes control: ', min(control))\n",
    "print('mínimo en nubes sembradas: ', min(sembradas))\n",
    "print('----------------')\n",
    "\n",
    "print('rango en nubes control: ', max(control)-min(control))\n",
    "print('rango en nubes sembradas: ', max(sembradas)-min(sembradas))\n",
    "print('----------------')\n",
    "\n",
    "print('media en nubes control: ', promedio(control))\n",
    "print('media en nubes sembradas: ', promedio(sembradas))\n",
    "print('----------------')\n",
    "\n",
    "print('mediana en nubes control: ', mediana_muestral(sorted(control)))\n",
    "print('mediana en nubes sembradas: ', mediana_muestral(sorted(sembradas)))\n",
    "print('----------------')\n",
    "\n",
    "print('Desvio estandar en nubes control: ', desv_estandar_muestral(control))\n",
    "print('Desvio estandar en nubes sembradas: ', desv_estandar_muestral(sembradas))\n",
    "print('----------------')\n",
    "\n",
    "print('Q1 en nubes control: ', Q1(sorted(control)))\n",
    "print('Q1 en nubes sembradas: ', Q1(sorted(sembradas)))\n",
    "print('----------------')\n",
    "\n",
    "print('Q3 en nubes control: ', Q3(sorted(control)))\n",
    "print('Q3 en nubes sembradas: ', Q3(sorted(sembradas)))"
   ]
  },
  {
   "cell_type": "code",
   "execution_count": 37,
   "id": "3a6d967e",
   "metadata": {},
   "outputs": [
    {
     "data": {
      "image/png": "[encoded data removed]",
      "text/plain": [
       "<Figure size 432x288 with 1 Axes>"
      ]
     },
     "metadata": {
      "needs_background": "light"
     },
     "output_type": "display_data"
    }
   ],
   "source": [
    "# le damos a los datos la estructura de data frame\n",
    "data = {'Control': control, 'Sembradas': sembradas}\n",
    "df = pd.DataFrame(data)\n",
    "\n",
    "# Grafico de caja hecho con seaborn\n",
    "plt.title('Mediciones de precipitaciones pluviajes de lluvia de nubes')\n",
    "sns.boxplot(data=df)\n",
    "plt.show()"
   ]
  },
  {
   "cell_type": "markdown",
   "id": "0107e936",
   "metadata": {},
   "source": [
    "# Ejercicio 12"
   ]
  },
  {
   "cell_type": "code",
   "execution_count": 38,
   "id": "52b4a066",
   "metadata": {},
   "outputs": [],
   "source": [
    "IDT = [13.70, 21.10, 28.10, 40.90,15.50, 21.40, 28.90, 43.50,\n",
    "       16.80, 21.40, 30.60, 46.00, 17.40, 22.30, 31.20, 48.90,\n",
    "       17.90, 23.70, 31.90, 52.10, 18.60, 25.50, 32.00, 55.60,\n",
    "       19.10, 25.80, 34.80, 57.30, 19.50, 26.20, 36.30, 60.10,\n",
    "       20.70, 26.60, 38.40, 62.30, 21.00, 28.00, 38.80, 72.80]\n",
    "\n",
    "lnIDT = [2.62, 3.05, 3.34, 3.71,2.74, 3.06, 3.36, 3.77,\n",
    "         2.82, 3.06, 3.42, 3.83,2.86, 3.10, 3.44, 3.89,\n",
    "         2.88, 3.17, 3.46, 3.95,2.92, 3.24, 3.47 ,4.02,\n",
    "         2.95, 3.25, 3.55, 4.05, 2.97, 3.27, 3.59, 4.10,\n",
    "         3.03, 3.28, 3.65, 4.13, 3.04, 3.33, 3.66, 4.29]"
   ]
  },
  {
   "cell_type": "code",
   "execution_count": 39,
   "id": "2053bdb6",
   "metadata": {},
   "outputs": [
    {
     "name": "stdout",
     "output_type": "stream",
     "text": [
      "máximo en IDT:  72.8\n",
      "máximo en lnIDT:  4.29\n",
      "----------------\n",
      "mínimo en IDT:  13.7\n",
      "mínimo en lnIDT:  2.62\n",
      "----------------\n",
      "rango en IDT:  59.099999999999994\n",
      "rango en lnIDT:  1.67\n",
      "----------------\n",
      "media en IDT:  32.317499999999995\n",
      "media en lnIDT:  3.383\n",
      "----------------\n",
      "mediana en IDT:  28.05\n",
      "mediana en lnIDT:  3.335\n",
      "----------------\n",
      "Desvio estandar en IDT:  14.55202541744619\n",
      "Desvio estandar en lnIDT:  0.423758185761644\n"
     ]
    }
   ],
   "source": [
    "print('máximo en IDT: ', max(IDT))\n",
    "print('máximo en lnIDT: ', max(lnIDT))\n",
    "print('----------------')\n",
    "\n",
    "print('mínimo en IDT: ', min(IDT))\n",
    "print('mínimo en lnIDT: ', min(lnIDT))\n",
    "print('----------------')\n",
    "\n",
    "print('rango en IDT: ', max(IDT)-min(IDT))\n",
    "print('rango en lnIDT: ', max(lnIDT)-min(lnIDT))\n",
    "print('----------------')\n",
    "\n",
    "print('media en IDT: ', promedio(IDT))\n",
    "print('media en lnIDT: ', promedio(lnIDT))\n",
    "print('----------------')\n",
    "\n",
    "print('mediana en IDT: ', mediana_muestral(sorted(IDT)))\n",
    "print('mediana en lnIDT: ', mediana_muestral(sorted(lnIDT)))\n",
    "print('----------------')\n",
    "\n",
    "print('Desvio estandar en IDT: ', desv_estandar_muestral(IDT))\n",
    "print('Desvio estandar en lnIDT: ', desv_estandar_muestral(lnIDT))\n"
   ]
  },
  {
   "cell_type": "code",
   "execution_count": null,
   "id": "3ad15fed",
   "metadata": {},
   "outputs": [],
   "source": []
  }
 ],
 "metadata": {
  "kernelspec": {
   "display_name": "Python 3",
   "language": "python",
   "name": "python3"
  },
  "language_info": {
   "codemirror_mode": {
    "name": "ipython",
    "version": 3
   },
   "file_extension": ".py",
   "mimetype": "text/x-python",
   "name": "python",
   "nbconvert_exporter": "python",
   "pygments_lexer": "ipython3",
   "version": "3.8.8"
  }
 },
 "nbformat": 4,
 "nbformat_minor": 5
}
