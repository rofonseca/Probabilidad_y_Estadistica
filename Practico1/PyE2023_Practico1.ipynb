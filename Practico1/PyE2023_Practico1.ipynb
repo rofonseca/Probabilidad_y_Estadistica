{
 "cells": [
  {
   "cell_type": "code",
   "execution_count": 1,
   "id": "307b083f",
   "metadata": {},
   "outputs": [],
   "source": [
    "import numpy as np\n",
    "import pandas as pd\n",
    "import matplotlib.pyplot as plt\n",
    "import seaborn as sns\n",
    "from scipy import stats"
   ]
  },
  {
   "cell_type": "markdown",
   "id": "cea017f1",
   "metadata": {},
   "source": [
    "# Ejercicio 2"
   ]
  },
  {
   "cell_type": "code",
   "execution_count": 2,
   "id": "b37d7d9a",
   "metadata": {},
   "outputs": [],
   "source": [
    "datos = ['o', 'o', 'n', 'j', 't', 'f', 'b', 'b', 'f', 'o', 'j', 'o', 'o', 'm',\n",
    "         'o', 'f', 'f', 'o', 'o', 'n', 'o', 'n', 'j', 'f', 'j', 'b', 'o', 't',\n",
    "         'j', 'o', 'j', 'j', 'f', 'n', 'o', 'b', 'm', 'o', 'j', 'm', 'o', 'b',\n",
    "         'o', 'f', 'j', 'o', 'o', 'b', 'n', 't', 'o', 'o', 'o', 'm', 'b', 'f']"
   ]
  },
  {
   "cell_type": "code",
   "execution_count": 3,
   "id": "19db787a",
   "metadata": {},
   "outputs": [],
   "source": [
    "def  frec_abs (x):\n",
    "    ''' devuelve la frecuencia absoluta de una lista'''\n",
    "    freqs = [(value, x.count (value) ) for value in set (x)]\n",
    "    return freqs"
   ]
  },
  {
   "cell_type": "code",
   "execution_count": 4,
   "id": "27eaad59",
   "metadata": {},
   "outputs": [
    {
     "data": {
      "text/plain": [
       "[('n', 5), ('m', 4), ('b', 7), ('j', 9), ('t', 3), ('f', 8), ('o', 20)]"
      ]
     },
     "execution_count": 4,
     "metadata": {},
     "output_type": "execute_result"
    }
   ],
   "source": [
    "frec_abs(datos)"
   ]
  },
  {
   "cell_type": "code",
   "execution_count": null,
   "id": "f636f2ac",
   "metadata": {},
   "outputs": [],
   "source": []
  }
 ],
 "metadata": {
  "kernelspec": {
   "display_name": "Python 3",
   "language": "python",
   "name": "python3"
  },
  "language_info": {
   "codemirror_mode": {
    "name": "ipython",
    "version": 3
   },
   "file_extension": ".py",
   "mimetype": "text/x-python",
   "name": "python",
   "nbconvert_exporter": "python",
   "pygments_lexer": "ipython3",
   "version": "3.8.8"
  }
 },
 "nbformat": 4,
 "nbformat_minor": 5
}
